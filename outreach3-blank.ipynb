{
 "cells": [
  {
   "cell_type": "markdown",
   "metadata": {},
   "source": [
    "# Finding the \"needle in the haystack\" galaxies¶\n",
    "A python excersie notebook written by Lewis McMillan, Summer 2020. This notebook has benifited from examples provided by Rita Tojeiro, and the help of Anne-Marie Weijmans, and Simon Reynolds.\n",
    "\n",
    "In this notebook you will use data from the Sloan Digital Sky Survey (SDSS), to explore how astronomers interact with \"big data\", and how they can use various different measurments of galaxies shapes in order to find spiral galaxies, the mergering of multiple galaxies, and other interesting galaxies.\n",
    "\n",
    "## SDSS and SciServer\n",
    "As mentioned above, in this notebook we will use data from SDSS, which is is the largest astronmical dataset in the world currently. For eachs nights observing it generates around 200Gb of data. The laptop this notebook was written on has 256Gb of storage space, meaning that I could fit 1 nights observing data on my laptop with some space left over for all the programs I need to analysie the data.\n",
    "\n",
    "If you are reading this then we assume that you havel alredy followed the instructions to get an account on SciServer, and have uploaded this notebook. In addition to this we assume that you are familiar with basic python, dataframe manipulation, and matplotlib commands. If not please complete Rita Tojeiro's notebook's which cover these topics: link here"
   ]
  },
  {
   "cell_type": "code",
   "execution_count": null,
   "metadata": {},
   "outputs": [],
   "source": [
    "# move to correct folder\n",
    "from pawlikMorphLSST import helpers, Image, pixmap, skyBackground, casgm # Library for analysing galaxies\n",
    "print(\"Galaxy analysis code imported\")\n",
    "# move back to original folder\n",
    "\n",
    "# Import Python libraries to work with SciServer\n",
    "import SciServer.CasJobs as CasJobs                 # query with CasJobs\n",
    "import SciServer.SkyServer as SkyServer\n",
    "print('SciServer libraries imported')\n",
    "\n",
    "# Import other libraries for use in this notebook.\n",
    "import numpy as np                                  # standard Python lib for math ops\n",
    "import pandas as pd                                 # data manipulation package\n",
    "import matplotlib.pyplot as plt                     # another graphing package\n",
    "from pathlib import Path                            # manage local files in your Compute containers\n",
    "from astropy.visualization import ZScaleInterval    # for plotting clear images\n",
    "from tqdm import tqdm_notebook                      # for a nice progress bar\n",
    "from concurrent.futures import ProcessPoolExecutor  # for running the code on more than 1 cpu\n",
    "from IPython.display import clear_output            # allow nice printing\n",
    "import json\n",
    "print('Supporting libraries imported')\n",
    "\n",
    "# Apply some special settings to the imported libraries\n",
    "# ensure columns get written completely in notebook\n",
    "pd.set_option('display.max_colwidth', -1)\n",
    "\n",
    "# for plotting clear images\n",
    "zscale = ZScaleInterval()\n",
    "\n",
    "# do *not* show python warnings \n",
    "import warnings\n",
    "warnings.filterwarnings('ignore')\n",
    "print('Settings applied')"
   ]
  },
  {
   "cell_type": "markdown",
   "metadata": {},
   "source": [
    "Lets load the results from the last notebook"
   ]
  },
  {
   "cell_type": "code",
   "execution_count": null,
   "metadata": {},
   "outputs": [],
   "source": [
    "# run this everytime you open the notebook to load in the results\n",
    "finalResults = json.load(open(\"results.json\"))\n",
    "# convert dictionary to pandas dataframe\n",
    "df = pd.DataFrame.from_dict(finalResults)\n",
    "# print dataframe\n",
    "df[:10]"
   ]
  },
  {
   "cell_type": "markdown",
   "metadata": {},
   "source": [
    "## Other measures of morphology\n",
    "We saw in the last two notebooks how we can use the asymmetry parameters A, and As to get a sample of morphologically disturbed galaxies.\n",
    "There are other measure of galaxy morphology. The above dataframe shows the different rows in the dataframe of results calculated using the full galaxy analysis code which include some other common measures of galaxy morphology:\n",
    "- C: Is the Concentration of light within the galaxy\n",
    "- S: Is is the Smoothnees/Clumpiness of the distribution of light in the galaxy.\n",
    "- g: Is the Gini index of the galaxy.\n",
    "- m20: Is the $2^{nd}$ moment of light of the galaxy"
   ]
  },
  {
   "cell_type": "markdown",
   "metadata": {},
   "source": [
    "## Smoothness/Clumpiness, S\n",
    "The smoothness parameter, as the name suggest, calculates how smooth the light distribution of a galaxy is. \n",
    "\n",
    "It calculates this by running a smoothing filter over the image and then subtracting this away from the original image. The code below show an example of this on the emoji example from before."
   ]
  },
  {
   "cell_type": "code",
   "execution_count": null,
   "metadata": {},
   "outputs": [],
   "source": [
    "np.random.seed(1)\n",
    "# Process emojis so that galaxy analysis code can analyse them\n",
    "def preprocessEmoji(img):\n",
    "    # convert image to grayscale\n",
    "    emoji = color.rgb2gray(img)\n",
    "    # shrink image so that code can process image in a timely manner\n",
    "    emoji = transform.resize(emoji, (500, 500))\n",
    "    # add some noise to image so that code can process the images as expected\n",
    "    emoji += (1./25.) * np.random.standard_normal(size=(500, 500))\n",
    "    return emoji\n",
    "\n",
    "# Calculate the Smoothness/clumpiness parameter\n",
    "def smoothDifference(img, kernel_size):\n",
    "    import scipy.ndimage as ndi\n",
    "\n",
    "    # smooth image\n",
    "    smoothimg = ndi.uniform_filter(img, size=kernel_size)\n",
    "\n",
    "    res = np.abs(img - smoothimg)\n",
    "    return res"
   ]
  },
  {
   "cell_type": "code",
   "execution_count": null,
   "metadata": {},
   "outputs": [],
   "source": [
    "from skimage import io, color, transform\n",
    "# read in the two emojis\n",
    "smiley = io.imread(\"emoji-1.png\")\n",
    "heart = io.imread(\"emoji-2.png\")\n",
    "\n",
    "# preprocess emojis\n",
    "smiley = preprocessEmoji(smiley)\n",
    "heart = preprocessEmoji(heart)\n",
    "\n",
    "# calculate smooth difference\n",
    "smileySmooth = smoothDifference(smiley, 15)\n",
    "heartSmooth = smoothDifference(heart, 15)\n",
    "\n",
    "fig, ax = plt.subplots(1, 2, figsize=(10, 10))\n",
    "ax[0].imshow(smileySmooth)\n",
    "ax[1].imshow(heartSmooth)"
   ]
  },
  {
   "cell_type": "markdown",
   "metadata": {},
   "source": [
    "As you can see the smoothness parameter picks up the internal features of the smiley face, and the edges of both the emoji's. This makes this measurment ideal for finding galaxies where there are clumps of light caused by star forming regions in that galaxy."
   ]
  },
  {
   "cell_type": "markdown",
   "metadata": {},
   "source": [
    "## Concentration, C\n",
    "The concentration parameter measures how concentrated the light is in a galaxy to its cores compared to its outer reaches.\n",
    "This measure is usually calculated using a ratio of it radii. These radii are defined as the radii at which $n$% of light falls within. The code here uses 20% and 80% radii to calculate the concentration of light. The equation for this is shown below.\n",
    "\n",
    "$C=5log_{10}\\left(\\frac{r_{80}}{r_{20}}\\right)$\n",
    "\n",
    "Below is an example of this calculation on the heart emoji. Note that the emoji has been faded for the purposes of this example."
   ]
  },
  {
   "cell_type": "code",
   "execution_count": null,
   "metadata": {},
   "outputs": [],
   "source": [
    "def plotradii(ax, image, rmax, centroid, title):\n",
    "    r20, r80 = casgm.calcR20_R80(image, centroid, rmax)\n",
    "    # plot these circles\n",
    "    circle1 = plt.Circle(centroid, r20, fill=False, color=\"red\")\n",
    "    circle2 = plt.Circle(centroid, r80, fill=False, color=\"black\")\n",
    "    ax.imshow(image)\n",
    "    ax.add_artist(circle1)\n",
    "    ax.add_artist(circle2)\n",
    "    ax.set_title(title, fontsize=20)\n",
    "    ax.legend([circle1, circle2], [f\"R20={r20:.2f}\", f\"R80={r80:.2f}\"], fontsize=15)\n",
    "    # zoom in\n",
    "    ax.set_xlim([100, 400])\n",
    "    ax.set_ylim([400, 100])\n",
    "    return r20, r80"
   ]
  },
  {
   "cell_type": "code",
   "execution_count": null,
   "metadata": {},
   "outputs": [],
   "source": [
    "fig, ax = plt.subplots(1, 2, figsize=(15, 15))\n",
    "\n",
    "# read in emoji\n",
    "fheart = io.imread(\"emoji-3.png\")\n",
    "\n",
    "# preprocess emoji\n",
    "fheart = preprocessEmoji(fheart)\n",
    "\n",
    "# set maximum radius of emoji\n",
    "rmax = 150\n",
    "# set centre of emoji\n",
    "centroid = [250, 240]\n",
    "r20, r80 = plotradii(ax[0], fheart, rmax, centroid, \"Faded Heart\")\n",
    "\n",
    "# set maximum radius of emoji\n",
    "rmax = 190\n",
    "# set centre of emoji\n",
    "centroid = [250, 240]\n",
    "r20, r80 = plotradii(ax[1], heart, rmax, centroid, \"Heart\")"
   ]
  },
  {
   "cell_type": "markdown",
   "metadata": {},
   "source": [
    "## Excercise\n",
    "1. Create a function that implments the Concentration formula. This function should take as its arguments, r20 and r80, and return the concentration\n",
    "2. Use your function to calculate the concentration of the faded and normal heart emoji's. You will need to edit the above code slightly."
   ]
  },
  {
   "cell_type": "markdown",
   "metadata": {},
   "source": [
    "## Gini index\n",
    "The Gini index is a bit more of an esotric measurment. It was orignally created to quantify a countires wealth inequality. An index of 0 represents a society where wealth is equally shared, and a index of 1 represents a society where one person has all the wealth.\n",
    "The Gini index can be used to measure a galaxies distribution of light. We replace wealth with pixel values and use the same method to calculate the index.\n",
    "The Gini index is calculated by calcuating the area between the curve of perfect equality (a straight line), and calculating the Lorenz curve for the galaxy.\n",
    "The details of this  calculation are not important here.\n",
    "Below is an example of the Gini index calculation for the two heart emoji's."
   ]
  },
  {
   "cell_type": "code",
   "execution_count": null,
   "metadata": {},
   "outputs": [],
   "source": [
    "def Gini(v, ax, title):\n",
    "    bins = np.linspace(0., 100., 11)\n",
    "    total = float(np.sum(v))\n",
    "    yvals = []\n",
    "    # generate cuvre for image\n",
    "    for b in bins:\n",
    "        bin_vals = v[v <= np.percentile(v, b)]\n",
    "        bin_fraction = (np.sum(bin_vals) / total) * 100.0\n",
    "        yvals.append(bin_fraction)\n",
    "    \n",
    "    # calculate areas\n",
    "    # perfect equality area\n",
    "    pe_area = np.trapz(bins, x=bins)\n",
    "    # lorenz area\n",
    "    lorenz_area = np.trapz(yvals, x=bins)\n",
    "    # calculate Gini index\n",
    "    gini_val = (pe_area - lorenz_area) / float(pe_area)\n",
    "    \n",
    "    # plot everything\n",
    "    ax.fill_between(bins, bins, yvals, alpha=0.5, label=\"Gini Index\")\n",
    "    ax.plot(bins, yvals, label=\"observed\")\n",
    "    ax.plot(bins, bins, '--', label=\"perfect eq.\")\n",
    "    ax.set_xlabel(\"fraction of pixels\", fontsize=15)\n",
    "    ax.set_ylabel(\"Total Flux\", fontsize=15)\n",
    "    ax.set_title(title + f\" Gini: {gini_val:.4f}\", fontsize=20)\n",
    "    ax.legend(fontsize=15)"
   ]
  },
  {
   "cell_type": "code",
   "execution_count": null,
   "metadata": {},
   "outputs": [],
   "source": [
    "fig, axs = plt.subplots(1, 2, figsize=(15, 10))\n",
    "\n",
    "skybgr, skyerr, *rest = skyBackground.skybgr(heart)\n",
    "heartmask = pixmap.pixelmap(heart, skybgr+skyerr, 3)\n",
    "heart2D = heartmask * heart\n",
    "heart1D = np.abs(heart2D[heart2D > 0])\n",
    "Gini(heart1D, axs[0], \"Normal Heart\")\n",
    "\n",
    "skybgr, skyerr, *rest = skyBackground.skybgr(fheart)\n",
    "fheartmask = pixmap.pixelmap(fheart, skybgr+skyerr, 3)\n",
    "heart2D = fheartmask * fheart\n",
    "heart1D = np.abs(heart2D[heart2D > 0])\n",
    "Gini(heart1D, axs[1], \"Faded Heart\")"
   ]
  },
  {
   "cell_type": "markdown",
   "metadata": {},
   "source": [
    "As you probably expected, the example of the \"normal\" heart is more uniform as all its pixels were uniform. Where as the faded heart emoji has a range of pixel values, thus has a more inequal distirbution of pixel values.\n",
    "The Gini index normally correlates with concentration. However, the Gini index can be used to find objects where the light is concentrated in a few pixels not at the centre of the galaxy.\n",
    "\n",
    "## Exercise\n",
    "1. It is expected that the Gini index for the \"normal\" heart emoji is exactly 0, why is this?\n",
    "2. Why is it not exactly 0?"
   ]
  },
  {
   "cell_type": "markdown",
   "metadata": {},
   "source": [
    "## $2^{nd}$ Moment of light, $M_{20}$\n",
    "$M_{20}$ is defined as the normalised second moment of light of the brightest 20% of the galaxy's flux.\n",
    "\n",
    "The second moment of light is defined as flux in each pixel, $f_i$, multiplied by the square of the distance to the centre of the galaxy, summed over all the pixels that belong to the galaxy. Therefore, to calculate $M_{20}$ we essentially take the top 20% pixels.\n",
    "\n",
    "Again $M_{20}$ is similar to the cocentration, a a very negative value for $M_{20}$ indicates that there is high concentration of light in the Galaxy. However, in the calculation of $M_{20}$ the \"centre\" of the galaxy is a free parameter which is calculated to minimise the total $2^{nd}$ moment of light. Thus, for a really negative value of $M_{20}$ concentration of light may be anywhere in the galaxy.\n",
    "\n",
    "Again we turn to the emoji's to illistrate this."
   ]
  },
  {
   "cell_type": "code",
   "execution_count": null,
   "metadata": {},
   "outputs": [],
   "source": [
    "m20heart = casgm.m20(heart, heartmask)\n",
    "m20fheart = casgm.m20(fheart, fheartmask)\n",
    "\n",
    "fig, axs = plt.subplots(1, 2, figsize=(15, 15))\n",
    "axs = axs.ravel()\n",
    "\n",
    "axs[0].imshow(heart)\n",
    "axs[0].set_title(fr\"$M_{{20}}$={m20heart:.2f}\", fontsize=20)\n",
    "\n",
    "axs[1].imshow(fheart)\n",
    "axs[1].set_title(fr\"$M_{{20}}$={m20fheart:.2f}\", fontsize=20)"
   ]
  },
  {
   "cell_type": "markdown",
   "metadata": {},
   "source": [
    "As expected the faded heart has a more negative value of $M_{20}$, as there is a concentration of light near the centre of the heart. The normal heart in comparison does not highly negative $M_{20}$ as it has mostly uniform pixel values."
   ]
  },
  {
   "cell_type": "markdown",
   "metadata": {},
   "source": [
    "# Projects\n",
    "\n",
    "Using the above morphology parameters and the asymmetry parameters you used before explore the data and try to generate samples where the majority of galaxies are:\n",
    "\n",
    "* Merger Galaxies\n",
    "* Spiral galaxies\n",
    "* Ellipticals where a/b > 0.5\n",
    "* Ellipticals where a$\\approx$b, e.g spherical or near spherical galaxies\n",
    "* Spiral galaxies with a bar\n",
    "\n",
    "To asses if your sample has a majority of the correct type plot several and compute the statistics of the different types of galaxies. You make wish to adapt the code from the 1st notebook which plotted random galaxies on each run.\n",
    "For each sample make sure you fully justify your use of the different morphology measures. You will need to make many plots to justify each sample, so make sure they are lablled correctly so that any one using your notebook to investigate these sampoles can understand your thinking.\n",
    "\n",
    "You may wish to make use of the following source to help with creating these sample:\n",
    "* [CJ. Conselice, 2014](https://arxiv.org/pdf/1403.2783.pdf)\n",
    "* [M. Pawlik et al., 2016](https://academic.oup.com/mnras/article/456/3/3032/1103305)"
   ]
  }
 ],
 "metadata": {
  "kernelspec": {
   "display_name": "Python 3",
   "language": "python",
   "name": "python3"
  },
  "language_info": {
   "codemirror_mode": {
    "name": "ipython",
    "version": 3
   },
   "file_extension": ".py",
   "mimetype": "text/x-python",
   "name": "python",
   "nbconvert_exporter": "python",
   "pygments_lexer": "ipython3",
   "version": "3.6.6"
  }
 },
 "nbformat": 4,
 "nbformat_minor": 2
}
